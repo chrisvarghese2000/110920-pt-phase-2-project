{
 "cells": [
  {
   "cell_type": "code",
   "execution_count": 8,
   "metadata": {},
   "outputs": [],
   "source": [
    "import os\n",
    "\n",
    "import pandas as pd\n",
    "import numpy as np\n",
    "\n",
    "import matplotlib.pyplot as plt\n",
    "import seaborn as sns\n",
    "\n",
    "import statsmodels.api as sm\n",
    "from statsmodels.formula.api import ols\n",
    "from statsmodels.stats.diagnostic import linear_rainbow, het_breuschpagan\n",
    "from statsmodels.stats.outliers_influence import variance_inflation_factor\n",
    "\n",
    "from sklearn.preprocessing import LabelEncoder\n",
    "from sklearn.preprocessing import OneHotEncoder"
   ]
  },
  {
   "cell_type": "code",
   "execution_count": 9,
   "metadata": {},
   "outputs": [],
   "source": [
    "#grab data\n",
    "\n",
    "df_look_up = pd.read_csv(\"../../data/raw/EXTR_LookUp.csv\")\n",
    "\n",
    "df_parcel = pd.read_csv(\"../../data/raw/EXTR_Parcel.csv\")\n",
    "df_res_building = pd.read_csv(\"../../data/raw/EXTR_ResBldg.csv\")\n",
    "df_rp_sale = pd.read_csv(\"../../data/raw/EXTR_RPSale.csv\")"
   ]
  },
  {
   "cell_type": "code",
   "execution_count": 10,
   "metadata": {},
   "outputs": [],
   "source": [
    "# df_look_up.head()\n",
    "# df_parcel.head()\n",
    "# df_res_building.head()\n",
    "# df_rp_sale.head()"
   ]
  },
  {
   "cell_type": "code",
   "execution_count": 11,
   "metadata": {},
   "outputs": [],
   "source": [
    "# df_look_up.columns\n",
    "# df_parcel.columns\n",
    "# df_res_building.columns\n",
    "# df_rp_sale.columns"
   ]
  },
  {
   "cell_type": "code",
   "execution_count": 12,
   "metadata": {},
   "outputs": [],
   "source": [
    "import re"
   ]
  },
  {
   "cell_type": "code",
   "execution_count": 13,
   "metadata": {},
   "outputs": [],
   "source": [
    "#let's rename some of the column names\n",
    "def name_fixer(to_fix):\n",
    "    to_fix = to_fix.strip()\n",
    "    to_fix = re.sub(r\"(\\w)([A-Z])\", r\"\\1_\\2\", to_fix)\n",
    "    return to_fix.lower()"
   ]
  },
  {
   "cell_type": "code",
   "execution_count": 14,
   "metadata": {},
   "outputs": [],
   "source": [
    "#Remove any trailing whitespace in data\n",
    "def whitespace_fixer(elements):\n",
    "    elements = elements.applymap(lambda x : x.strip() if type(x) == type(\"str\") else x)\n",
    "    return elements"
   ]
  },
  {
   "cell_type": "code",
   "execution_count": 15,
   "metadata": {},
   "outputs": [],
   "source": [
    "def id_glue(first, second):\n",
    "    return int(str(first) + str(second))"
   ]
  },
  {
   "cell_type": "code",
   "execution_count": 16,
   "metadata": {},
   "outputs": [],
   "source": [
    "test = \"TestingThisTThing\"\n",
    "#print(name_fixer(test))"
   ]
  },
  {
   "cell_type": "code",
   "execution_count": 17,
   "metadata": {},
   "outputs": [],
   "source": [
    "df_parcel = df_parcel.rename(columns = lambda x: name_fixer(x))\n",
    "df_res_building = df_res_building.rename(columns = lambda x: name_fixer(x))\n",
    "df_rp_sale = df_rp_sale.rename(columns = lambda x: name_fixer(x))"
   ]
  },
  {
   "cell_type": "code",
   "execution_count": 18,
   "metadata": {},
   "outputs": [],
   "source": [
    "# df_look_up.columns\n",
    "# df_parcel.columns\n",
    "#df_res_building.columns\n",
    "#df_rp_sale.columns"
   ]
  },
  {
   "cell_type": "code",
   "execution_count": 19,
   "metadata": {},
   "outputs": [],
   "source": [
    "# fix df_parcel\n",
    "df_parcel = df_parcel.rename(columns = {\n",
    "    'd_nr_lease' : 'dnr_lease',\n",
    "    'h_bu_as_if_vacant' : 'hbu_as_if_vacant'\n",
    "})\n",
    "# df_parcel.columns"
   ]
  },
  {
   "cell_type": "code",
   "execution_count": 20,
   "metadata": {},
   "outputs": [],
   "source": [
    "df_rp_sale = df_rp_sale.rename(columns = {\n",
    "    'a_fforest_land' : 'af_forest_land',\n",
    "    'a_fcurrent_use_land' : 'af_current_use_land',\n",
    "    'a_fnon_profit_use' : 'af_non_profit_use',\n",
    "    'a_fhistoric_property' : 'af_historic_property'\n",
    "})\n",
    "# df_rp_sale.columns"
   ]
  },
  {
   "cell_type": "code",
   "execution_count": 21,
   "metadata": {},
   "outputs": [],
   "source": [
    "# df_look_up.info()\n",
    "#df_parcel.info()\n",
    "# df_res_building.info()\n",
    "# df_rp_sale.info()"
   ]
  },
  {
   "cell_type": "code",
   "execution_count": 22,
   "metadata": {},
   "outputs": [],
   "source": [
    "parcel_cols = ['major', 'minor', 'prop_type', 'sq_ft_lot', 'water_system', \n",
    "               'sewer_system', 'inadequate_parking', 'pcnt_unusable', 'unbuildable', \n",
    "               'nbr_bldg_sites', 'contamination', 'water_problems']"
   ]
  },
  {
   "cell_type": "code",
   "execution_count": 23,
   "metadata": {},
   "outputs": [],
   "source": [
    "#not wanted columns\n",
    "res_building_cols = ['bldg_nbr','address','fraction','direction_prefix', 'street_name',\n",
    "       'street_type', 'direction_suffix', 'zip_code', 'bldg_grade_var']"
   ]
  },
  {
   "cell_type": "code",
   "execution_count": 24,
   "metadata": {},
   "outputs": [],
   "source": [
    "rp_sale_cols = [\"sale_price\", \"major\", \"minor\", \"document_date\"]"
   ]
  },
  {
   "cell_type": "code",
   "execution_count": 25,
   "metadata": {},
   "outputs": [],
   "source": [
    "#clean df_parcel\n",
    "df_parcel_c = df_parcel[parcel_cols].copy()"
   ]
  },
  {
   "cell_type": "code",
   "execution_count": 26,
   "metadata": {},
   "outputs": [],
   "source": [
    "#make id_number\n",
    "for row in [df_parcel_c]:\n",
    "    row['id_number'] = row['major'].astype(str) + row['minor'].astype(str)\n",
    "    row.drop(columns = ['major', 'minor'], inplace = True)"
   ]
  },
  {
   "cell_type": "code",
   "execution_count": 27,
   "metadata": {},
   "outputs": [],
   "source": [
    "#df_parcel_c.head()\n",
    "#df_parcel_c.info()\n",
    "#df_parcel_c['id_number'].value_counts()"
   ]
  },
  {
   "cell_type": "code",
   "execution_count": 28,
   "metadata": {},
   "outputs": [],
   "source": [
    "#clean df_res_building\n",
    "df_res_building_c = df_res_building.drop(columns = res_building_cols)"
   ]
  },
  {
   "cell_type": "code",
   "execution_count": 29,
   "metadata": {},
   "outputs": [],
   "source": [
    "#df_res_building_c.head()\n",
    "#res_building_cols\n",
    "#df_res_building.info()"
   ]
  },
  {
   "cell_type": "code",
   "execution_count": 30,
   "metadata": {},
   "outputs": [],
   "source": [
    "#fix types for columns\n",
    "res_building_int = ['nbr_living_units', 'bedrooms'] + \\\n",
    "              [c for c in df_res_building_c.columns if 'sqft' in c.lower() or 'count' in c.lower()] + \\\n",
    "              ['brick_stone', 'pcnt_complete', 'pcnt_net_condition', 'yr_built', 'yr_renovated', 'addnl_cost']\n",
    "res_building_fl = ['stories']"
   ]
  },
  {
   "cell_type": "code",
   "execution_count": 31,
   "metadata": {},
   "outputs": [],
   "source": [
    "for c in res_building_int:\n",
    "    df_res_building_c[c] = df_res_building_c[c].astype(int)\n",
    "for c in res_building_fl:\n",
    "    df_res_building[c] = df_res_building_c[c].astype(float)"
   ]
  },
  {
   "cell_type": "code",
   "execution_count": 32,
   "metadata": {},
   "outputs": [],
   "source": [
    "#make id_number\n",
    "for row in [df_res_building_c]:\n",
    "    row['id_number'] = row['major'].astype(str) + row['minor'].astype(str)\n",
    "    row.drop(columns = ['major', 'minor'], inplace = True)"
   ]
  },
  {
   "cell_type": "code",
   "execution_count": 33,
   "metadata": {},
   "outputs": [],
   "source": [
    "#df_res_building_c.head()"
   ]
  },
  {
   "cell_type": "code",
   "execution_count": 34,
   "metadata": {},
   "outputs": [],
   "source": [
    "#clean df_rp_sale\n",
    "df_rp_sale_c = whitespace_fixer(df_rp_sale[rp_sale_cols].copy())"
   ]
  },
  {
   "cell_type": "code",
   "execution_count": 35,
   "metadata": {},
   "outputs": [],
   "source": [
    "from datetime import datetime"
   ]
  },
  {
   "cell_type": "code",
   "execution_count": 36,
   "metadata": {},
   "outputs": [],
   "source": [
    "#change document_date to year\n",
    "df_rp_sale_c['document_date'] = pd.to_datetime(df_rp_sale_c.document_date, infer_datetime_format = True)\n",
    "df_rp_sale_c['year'] = df_rp_sale_c['document_date'].dt.year"
   ]
  },
  {
   "cell_type": "code",
   "execution_count": 37,
   "metadata": {},
   "outputs": [],
   "source": [
    "#drop document_date\n",
    "df_rp_sale_c.drop(columns = ['document_date'], inplace = True)"
   ]
  },
  {
   "cell_type": "code",
   "execution_count": 38,
   "metadata": {},
   "outputs": [],
   "source": [
    "#df_rp_sale_c.head()\n",
    "#df_rp_sale_c.columns"
   ]
  },
  {
   "cell_type": "code",
   "execution_count": 39,
   "metadata": {},
   "outputs": [],
   "source": [
    "#only 2019 data\n",
    "df_rp_sale_c = df_rp_sale_c[df_rp_sale_c.year == 2019]"
   ]
  },
  {
   "cell_type": "code",
   "execution_count": 40,
   "metadata": {},
   "outputs": [],
   "source": [
    "#change sale_price type to int\n",
    "df_rp_sale_c.sale_price = df_rp_sale_c.sale_price.astype(int)"
   ]
  },
  {
   "cell_type": "code",
   "execution_count": 41,
   "metadata": {},
   "outputs": [],
   "source": [
    "#drop rows with sale price of less than 0\n",
    "df_rp_sale_c = df_rp_sale_c[df_rp_sale_c.sale_price > 0]"
   ]
  },
  {
   "cell_type": "code",
   "execution_count": 42,
   "metadata": {},
   "outputs": [],
   "source": [
    "#make id_number\n",
    "for row in [df_rp_sale_c]:\n",
    "    row['id_number'] = row['major'].astype(str) + row['minor'].astype(str)\n",
    "    row.drop(columns = ['major', 'minor'], inplace = True)"
   ]
  },
  {
   "cell_type": "code",
   "execution_count": 43,
   "metadata": {},
   "outputs": [
    {
     "data": {
      "text/html": [
       "<div>\n",
       "<style scoped>\n",
       "    .dataframe tbody tr th:only-of-type {\n",
       "        vertical-align: middle;\n",
       "    }\n",
       "\n",
       "    .dataframe tbody tr th {\n",
       "        vertical-align: top;\n",
       "    }\n",
       "\n",
       "    .dataframe thead th {\n",
       "        text-align: right;\n",
       "    }\n",
       "</style>\n",
       "<table border=\"1\" class=\"dataframe\">\n",
       "  <thead>\n",
       "    <tr style=\"text-align: right;\">\n",
       "      <th></th>\n",
       "      <th>sale_price</th>\n",
       "      <th>year</th>\n",
       "      <th>id_number</th>\n",
       "    </tr>\n",
       "  </thead>\n",
       "  <tbody>\n",
       "    <tr>\n",
       "      <th>2</th>\n",
       "      <td>192000</td>\n",
       "      <td>2019</td>\n",
       "      <td>919715200</td>\n",
       "    </tr>\n",
       "    <tr>\n",
       "      <th>8</th>\n",
       "      <td>185000</td>\n",
       "      <td>2019</td>\n",
       "      <td>894444200</td>\n",
       "    </tr>\n",
       "    <tr>\n",
       "      <th>9</th>\n",
       "      <td>560000</td>\n",
       "      <td>2019</td>\n",
       "      <td>213043120</td>\n",
       "    </tr>\n",
       "    <tr>\n",
       "      <th>10</th>\n",
       "      <td>435000</td>\n",
       "      <td>2019</td>\n",
       "      <td>940652630</td>\n",
       "    </tr>\n",
       "    <tr>\n",
       "      <th>19</th>\n",
       "      <td>7600000</td>\n",
       "      <td>2019</td>\n",
       "      <td>1525049008</td>\n",
       "    </tr>\n",
       "  </tbody>\n",
       "</table>\n",
       "</div>"
      ],
      "text/plain": [
       "    sale_price  year   id_number\n",
       "2       192000  2019   919715200\n",
       "8       185000  2019   894444200\n",
       "9       560000  2019   213043120\n",
       "10      435000  2019   940652630\n",
       "19     7600000  2019  1525049008"
      ]
     },
     "execution_count": 43,
     "metadata": {},
     "output_type": "execute_result"
    }
   ],
   "source": [
    "df_rp_sale_c.head()"
   ]
  },
  {
   "cell_type": "code",
   "execution_count": 44,
   "metadata": {},
   "outputs": [],
   "source": [
    "#Utilizing df_look_up\n",
    "#df_look_up.head()"
   ]
  },
  {
   "cell_type": "code",
   "execution_count": 45,
   "metadata": {},
   "outputs": [],
   "source": [
    "df_look_up = whitespace_fixer(df_look_up)"
   ]
  },
  {
   "cell_type": "code",
   "execution_count": 46,
   "metadata": {},
   "outputs": [
    {
     "data": {
      "text/html": [
       "<div>\n",
       "<style scoped>\n",
       "    .dataframe tbody tr th:only-of-type {\n",
       "        vertical-align: middle;\n",
       "    }\n",
       "\n",
       "    .dataframe tbody tr th {\n",
       "        vertical-align: top;\n",
       "    }\n",
       "\n",
       "    .dataframe thead th {\n",
       "        text-align: right;\n",
       "    }\n",
       "</style>\n",
       "<table border=\"1\" class=\"dataframe\">\n",
       "  <thead>\n",
       "    <tr style=\"text-align: right;\">\n",
       "      <th></th>\n",
       "      <th>LUType</th>\n",
       "      <th>LUItem</th>\n",
       "      <th>LUDescription</th>\n",
       "    </tr>\n",
       "  </thead>\n",
       "  <tbody>\n",
       "    <tr>\n",
       "      <th>0</th>\n",
       "      <td>1</td>\n",
       "      <td>1</td>\n",
       "      <td>LAND ONLY</td>\n",
       "    </tr>\n",
       "  </tbody>\n",
       "</table>\n",
       "</div>"
      ],
      "text/plain": [
       "   LUType  LUItem LUDescription\n",
       "0       1       1     LAND ONLY"
      ]
     },
     "execution_count": 46,
     "metadata": {},
     "output_type": "execute_result"
    }
   ],
   "source": [
    "#df_look_up[df_look_up['LUType'] == 1]\n",
    "df_look_up[(df_look_up['LUType'] == 1) & (df_look_up['LUItem'] == 1)]"
   ]
  },
  {
   "cell_type": "code",
   "execution_count": 47,
   "metadata": {},
   "outputs": [],
   "source": [
    "#retrieve dataframe for requested types and items\n",
    "# def lookup_(t):\n",
    "#     return df_look_up[df_look_up['LUType'] == t]\n",
    "\n",
    "def lookup_item(t, i):\n",
    "    temp_df = df_look_up[(df_look_up['LUType'] == t) & (df_look_up['LUItem'] == i)]\n",
    "    if (len(temp_df) == 1):\n",
    "        return temp_df['LUDescription'].iloc[0]\n",
    "    return i\n",
    "\n",
    "# def lookup_item_test(t,i):\n",
    "#     b = 0\n",
    "#     return (df_look_up['LUType'] == t) & (df_look_up['LUItem'] == i)"
   ]
  },
  {
   "cell_type": "code",
   "execution_count": 48,
   "metadata": {},
   "outputs": [],
   "source": [
    "#df_look_up.head()\n",
    "#df_res_building_c.head()\n",
    "#df_parcel_c.head()\n",
    "#df_rp_sale_c.head()"
   ]
  },
  {
   "cell_type": "code",
   "execution_count": 49,
   "metadata": {},
   "outputs": [],
   "source": [
    "df_res_building_c = df_res_building_c.drop_duplicates(subset = ['id_number'], keep = 'last')\n",
    "df_parcel_c = df_parcel_c.drop_duplicates(subset = ['id_number'], keep = 'last')\n",
    "df_rp_sale_c = df_rp_sale_c.drop_duplicates(subset = ['id_number'], keep = 'last')"
   ]
  },
  {
   "cell_type": "code",
   "execution_count": 50,
   "metadata": {},
   "outputs": [
    {
     "data": {
      "text/plain": [
       "785351160     1\n",
       "813210210     1\n",
       "675200350     1\n",
       "48600125      1\n",
       "290927210     1\n",
       "             ..\n",
       "1022049109    1\n",
       "769460253     1\n",
       "124059060     1\n",
       "321124250     1\n",
       "3356406210    1\n",
       "Name: id_number, Length: 179475, dtype: int64"
      ]
     },
     "execution_count": 50,
     "metadata": {},
     "output_type": "execute_result"
    }
   ],
   "source": [
    "df_res_building_c['id_number'].value_counts()"
   ]
  },
  {
   "cell_type": "code",
   "execution_count": 51,
   "metadata": {},
   "outputs": [
    {
     "data": {
      "text/html": [
       "<div>\n",
       "<style scoped>\n",
       "    .dataframe tbody tr th:only-of-type {\n",
       "        vertical-align: middle;\n",
       "    }\n",
       "\n",
       "    .dataframe tbody tr th {\n",
       "        vertical-align: top;\n",
       "    }\n",
       "\n",
       "    .dataframe thead th {\n",
       "        text-align: right;\n",
       "    }\n",
       "</style>\n",
       "<table border=\"1\" class=\"dataframe\">\n",
       "  <thead>\n",
       "    <tr style=\"text-align: right;\">\n",
       "      <th></th>\n",
       "      <th>nbr_living_units</th>\n",
       "      <th>building_number</th>\n",
       "      <th>stories</th>\n",
       "      <th>bldg_grade</th>\n",
       "      <th>sq_ft1st_floor</th>\n",
       "      <th>sq_ft_half_floor</th>\n",
       "      <th>sq_ft2nd_floor</th>\n",
       "      <th>sq_ft_upper_floor</th>\n",
       "      <th>sq_ft_unfin_full</th>\n",
       "      <th>sq_ft_unfin_half</th>\n",
       "      <th>...</th>\n",
       "      <th>fp_freestanding</th>\n",
       "      <th>fp_additional</th>\n",
       "      <th>yr_built</th>\n",
       "      <th>yr_renovated</th>\n",
       "      <th>pcnt_complete</th>\n",
       "      <th>obsolescence</th>\n",
       "      <th>pcnt_net_condition</th>\n",
       "      <th>condition</th>\n",
       "      <th>addnl_cost</th>\n",
       "      <th>id_number</th>\n",
       "    </tr>\n",
       "  </thead>\n",
       "  <tbody>\n",
       "    <tr>\n",
       "      <th>0</th>\n",
       "      <td>1</td>\n",
       "      <td>27719</td>\n",
       "      <td>2.0</td>\n",
       "      <td>11</td>\n",
       "      <td>1970</td>\n",
       "      <td>0</td>\n",
       "      <td>2130</td>\n",
       "      <td>0</td>\n",
       "      <td>0</td>\n",
       "      <td>0</td>\n",
       "      <td>...</td>\n",
       "      <td>0</td>\n",
       "      <td>0</td>\n",
       "      <td>2001</td>\n",
       "      <td>0</td>\n",
       "      <td>0</td>\n",
       "      <td>0</td>\n",
       "      <td>0</td>\n",
       "      <td>3</td>\n",
       "      <td>0</td>\n",
       "      <td>9800720</td>\n",
       "    </tr>\n",
       "    <tr>\n",
       "      <th>1</th>\n",
       "      <td>1</td>\n",
       "      <td>2829</td>\n",
       "      <td>2.0</td>\n",
       "      <td>10</td>\n",
       "      <td>1610</td>\n",
       "      <td>0</td>\n",
       "      <td>1400</td>\n",
       "      <td>0</td>\n",
       "      <td>0</td>\n",
       "      <td>0</td>\n",
       "      <td>...</td>\n",
       "      <td>0</td>\n",
       "      <td>0</td>\n",
       "      <td>2004</td>\n",
       "      <td>0</td>\n",
       "      <td>0</td>\n",
       "      <td>0</td>\n",
       "      <td>0</td>\n",
       "      <td>3</td>\n",
       "      <td>0</td>\n",
       "      <td>9802140</td>\n",
       "    </tr>\n",
       "    <tr>\n",
       "      <th>2</th>\n",
       "      <td>1</td>\n",
       "      <td>1715</td>\n",
       "      <td>2.0</td>\n",
       "      <td>10</td>\n",
       "      <td>2520</td>\n",
       "      <td>0</td>\n",
       "      <td>2560</td>\n",
       "      <td>0</td>\n",
       "      <td>0</td>\n",
       "      <td>0</td>\n",
       "      <td>...</td>\n",
       "      <td>0</td>\n",
       "      <td>0</td>\n",
       "      <td>2017</td>\n",
       "      <td>0</td>\n",
       "      <td>0</td>\n",
       "      <td>0</td>\n",
       "      <td>0</td>\n",
       "      <td>3</td>\n",
       "      <td>0</td>\n",
       "      <td>983020</td>\n",
       "    </tr>\n",
       "    <tr>\n",
       "      <th>3</th>\n",
       "      <td>1</td>\n",
       "      <td>1861</td>\n",
       "      <td>2.0</td>\n",
       "      <td>10</td>\n",
       "      <td>2210</td>\n",
       "      <td>0</td>\n",
       "      <td>1860</td>\n",
       "      <td>0</td>\n",
       "      <td>0</td>\n",
       "      <td>0</td>\n",
       "      <td>...</td>\n",
       "      <td>0</td>\n",
       "      <td>0</td>\n",
       "      <td>2013</td>\n",
       "      <td>0</td>\n",
       "      <td>0</td>\n",
       "      <td>0</td>\n",
       "      <td>0</td>\n",
       "      <td>3</td>\n",
       "      <td>0</td>\n",
       "      <td>9830160</td>\n",
       "    </tr>\n",
       "    <tr>\n",
       "      <th>4</th>\n",
       "      <td>1</td>\n",
       "      <td>35410</td>\n",
       "      <td>2.0</td>\n",
       "      <td>7</td>\n",
       "      <td>910</td>\n",
       "      <td>0</td>\n",
       "      <td>700</td>\n",
       "      <td>0</td>\n",
       "      <td>0</td>\n",
       "      <td>0</td>\n",
       "      <td>...</td>\n",
       "      <td>0</td>\n",
       "      <td>0</td>\n",
       "      <td>1994</td>\n",
       "      <td>0</td>\n",
       "      <td>0</td>\n",
       "      <td>0</td>\n",
       "      <td>0</td>\n",
       "      <td>4</td>\n",
       "      <td>0</td>\n",
       "      <td>10050180</td>\n",
       "    </tr>\n",
       "  </tbody>\n",
       "</table>\n",
       "<p>5 rows × 40 columns</p>\n",
       "</div>"
      ],
      "text/plain": [
       "   nbr_living_units building_number  stories  bldg_grade  sq_ft1st_floor  \\\n",
       "0                 1           27719      2.0          11            1970   \n",
       "1                 1           2829       2.0          10            1610   \n",
       "2                 1           1715       2.0          10            2520   \n",
       "3                 1           1861       2.0          10            2210   \n",
       "4                 1           35410      2.0           7             910   \n",
       "\n",
       "   sq_ft_half_floor  sq_ft2nd_floor  sq_ft_upper_floor  sq_ft_unfin_full  \\\n",
       "0                 0            2130                  0                 0   \n",
       "1                 0            1400                  0                 0   \n",
       "2                 0            2560                  0                 0   \n",
       "3                 0            1860                  0                 0   \n",
       "4                 0             700                  0                 0   \n",
       "\n",
       "   sq_ft_unfin_half  ...  fp_freestanding  fp_additional  yr_built  \\\n",
       "0                 0  ...                0              0      2001   \n",
       "1                 0  ...                0              0      2004   \n",
       "2                 0  ...                0              0      2017   \n",
       "3                 0  ...                0              0      2013   \n",
       "4                 0  ...                0              0      1994   \n",
       "\n",
       "   yr_renovated  pcnt_complete  obsolescence pcnt_net_condition  condition  \\\n",
       "0             0              0             0                  0          3   \n",
       "1             0              0             0                  0          3   \n",
       "2             0              0             0                  0          3   \n",
       "3             0              0             0                  0          3   \n",
       "4             0              0             0                  0          4   \n",
       "\n",
       "   addnl_cost  id_number  \n",
       "0           0    9800720  \n",
       "1           0    9802140  \n",
       "2           0     983020  \n",
       "3           0    9830160  \n",
       "4           0   10050180  \n",
       "\n",
       "[5 rows x 40 columns]"
      ]
     },
     "execution_count": 51,
     "metadata": {},
     "output_type": "execute_result"
    }
   ],
   "source": [
    "df_res_building_c.head()"
   ]
  },
  {
   "cell_type": "code",
   "execution_count": 52,
   "metadata": {},
   "outputs": [],
   "source": [
    "df_first = df_res_building_c.merge(df_parcel_c, on = 'id_number', how = 'inner')"
   ]
  },
  {
   "cell_type": "code",
   "execution_count": 53,
   "metadata": {},
   "outputs": [],
   "source": [
    "df = df_first.merge(df_rp_sale_c, on = 'id_number', how = 'inner')"
   ]
  },
  {
   "cell_type": "code",
   "execution_count": 54,
   "metadata": {},
   "outputs": [
    {
     "data": {
      "text/html": [
       "<div>\n",
       "<style scoped>\n",
       "    .dataframe tbody tr th:only-of-type {\n",
       "        vertical-align: middle;\n",
       "    }\n",
       "\n",
       "    .dataframe tbody tr th {\n",
       "        vertical-align: top;\n",
       "    }\n",
       "\n",
       "    .dataframe thead th {\n",
       "        text-align: right;\n",
       "    }\n",
       "</style>\n",
       "<table border=\"1\" class=\"dataframe\">\n",
       "  <thead>\n",
       "    <tr style=\"text-align: right;\">\n",
       "      <th></th>\n",
       "      <th>nbr_living_units</th>\n",
       "      <th>building_number</th>\n",
       "      <th>stories</th>\n",
       "      <th>bldg_grade</th>\n",
       "      <th>sq_ft1st_floor</th>\n",
       "      <th>sq_ft_half_floor</th>\n",
       "      <th>sq_ft2nd_floor</th>\n",
       "      <th>sq_ft_upper_floor</th>\n",
       "      <th>sq_ft_unfin_full</th>\n",
       "      <th>sq_ft_unfin_half</th>\n",
       "      <th>...</th>\n",
       "      <th>water_system</th>\n",
       "      <th>sewer_system</th>\n",
       "      <th>inadequate_parking</th>\n",
       "      <th>pcnt_unusable</th>\n",
       "      <th>unbuildable</th>\n",
       "      <th>nbr_bldg_sites</th>\n",
       "      <th>contamination</th>\n",
       "      <th>water_problems</th>\n",
       "      <th>sale_price</th>\n",
       "      <th>year</th>\n",
       "    </tr>\n",
       "  </thead>\n",
       "  <tbody>\n",
       "    <tr>\n",
       "      <th>0</th>\n",
       "      <td>1</td>\n",
       "      <td>2435</td>\n",
       "      <td>1.0</td>\n",
       "      <td>7</td>\n",
       "      <td>1480</td>\n",
       "      <td>0</td>\n",
       "      <td>0</td>\n",
       "      <td>0</td>\n",
       "      <td>0</td>\n",
       "      <td>0</td>\n",
       "      <td>...</td>\n",
       "      <td>2</td>\n",
       "      <td>2</td>\n",
       "      <td>2</td>\n",
       "      <td>0</td>\n",
       "      <td>False</td>\n",
       "      <td>0</td>\n",
       "      <td>0</td>\n",
       "      <td>N</td>\n",
       "      <td>311000</td>\n",
       "      <td>2019</td>\n",
       "    </tr>\n",
       "    <tr>\n",
       "      <th>1</th>\n",
       "      <td>1</td>\n",
       "      <td>12254</td>\n",
       "      <td>1.0</td>\n",
       "      <td>5</td>\n",
       "      <td>550</td>\n",
       "      <td>0</td>\n",
       "      <td>0</td>\n",
       "      <td>0</td>\n",
       "      <td>0</td>\n",
       "      <td>0</td>\n",
       "      <td>...</td>\n",
       "      <td>2</td>\n",
       "      <td>1</td>\n",
       "      <td>2</td>\n",
       "      <td>0</td>\n",
       "      <td>False</td>\n",
       "      <td>0</td>\n",
       "      <td>0</td>\n",
       "      <td>N</td>\n",
       "      <td>188500</td>\n",
       "      <td>2019</td>\n",
       "    </tr>\n",
       "    <tr>\n",
       "      <th>2</th>\n",
       "      <td>1</td>\n",
       "      <td>1602</td>\n",
       "      <td>2.0</td>\n",
       "      <td>9</td>\n",
       "      <td>660</td>\n",
       "      <td>0</td>\n",
       "      <td>595</td>\n",
       "      <td>0</td>\n",
       "      <td>0</td>\n",
       "      <td>0</td>\n",
       "      <td>...</td>\n",
       "      <td>2</td>\n",
       "      <td>2</td>\n",
       "      <td>0</td>\n",
       "      <td>0</td>\n",
       "      <td>False</td>\n",
       "      <td>0</td>\n",
       "      <td>0</td>\n",
       "      <td>N</td>\n",
       "      <td>730000</td>\n",
       "      <td>2019</td>\n",
       "    </tr>\n",
       "    <tr>\n",
       "      <th>3</th>\n",
       "      <td>1</td>\n",
       "      <td>3410</td>\n",
       "      <td>2.0</td>\n",
       "      <td>9</td>\n",
       "      <td>1602</td>\n",
       "      <td>0</td>\n",
       "      <td>1991</td>\n",
       "      <td>0</td>\n",
       "      <td>0</td>\n",
       "      <td>0</td>\n",
       "      <td>...</td>\n",
       "      <td>2</td>\n",
       "      <td>2</td>\n",
       "      <td>2</td>\n",
       "      <td>0</td>\n",
       "      <td>False</td>\n",
       "      <td>0</td>\n",
       "      <td>0</td>\n",
       "      <td>N</td>\n",
       "      <td>888679</td>\n",
       "      <td>2019</td>\n",
       "    </tr>\n",
       "    <tr>\n",
       "      <th>4</th>\n",
       "      <td>1</td>\n",
       "      <td>4512</td>\n",
       "      <td>1.0</td>\n",
       "      <td>8</td>\n",
       "      <td>2290</td>\n",
       "      <td>0</td>\n",
       "      <td>0</td>\n",
       "      <td>0</td>\n",
       "      <td>0</td>\n",
       "      <td>0</td>\n",
       "      <td>...</td>\n",
       "      <td>2</td>\n",
       "      <td>2</td>\n",
       "      <td>2</td>\n",
       "      <td>0</td>\n",
       "      <td>False</td>\n",
       "      <td>0</td>\n",
       "      <td>0</td>\n",
       "      <td>N</td>\n",
       "      <td>800000</td>\n",
       "      <td>2019</td>\n",
       "    </tr>\n",
       "  </tbody>\n",
       "</table>\n",
       "<p>5 rows × 52 columns</p>\n",
       "</div>"
      ],
      "text/plain": [
       "   nbr_living_units building_number  stories  bldg_grade  sq_ft1st_floor  \\\n",
       "0                 1           2435       1.0           7            1480   \n",
       "1                 1           12254      1.0           5             550   \n",
       "2                 1           1602       2.0           9             660   \n",
       "3                 1           3410       2.0           9            1602   \n",
       "4                 1           4512       1.0           8            2290   \n",
       "\n",
       "   sq_ft_half_floor  sq_ft2nd_floor  sq_ft_upper_floor  sq_ft_unfin_full  \\\n",
       "0                 0               0                  0                 0   \n",
       "1                 0               0                  0                 0   \n",
       "2                 0             595                  0                 0   \n",
       "3                 0            1991                  0                 0   \n",
       "4                 0               0                  0                 0   \n",
       "\n",
       "   sq_ft_unfin_half  ...  water_system  sewer_system  inadequate_parking  \\\n",
       "0                 0  ...             2             2                   2   \n",
       "1                 0  ...             2             1                   2   \n",
       "2                 0  ...             2             2                   0   \n",
       "3                 0  ...             2             2                   2   \n",
       "4                 0  ...             2             2                   2   \n",
       "\n",
       "   pcnt_unusable  unbuildable  nbr_bldg_sites contamination  water_problems  \\\n",
       "0              0        False               0             0               N   \n",
       "1              0        False               0             0               N   \n",
       "2              0        False               0             0               N   \n",
       "3              0        False               0             0               N   \n",
       "4              0        False               0             0               N   \n",
       "\n",
       "   sale_price  year  \n",
       "0      311000  2019  \n",
       "1      188500  2019  \n",
       "2      730000  2019  \n",
       "3      888679  2019  \n",
       "4      800000  2019  \n",
       "\n",
       "[5 rows x 52 columns]"
      ]
     },
     "execution_count": 54,
     "metadata": {},
     "output_type": "execute_result"
    }
   ],
   "source": [
    "df.head()"
   ]
  },
  {
   "cell_type": "code",
   "execution_count": 55,
   "metadata": {},
   "outputs": [],
   "source": [
    "#df.isna().sum().sort_values(ascending=False)[:3]"
   ]
  },
  {
   "cell_type": "code",
   "execution_count": 56,
   "metadata": {},
   "outputs": [],
   "source": [
    "# #columns that have a dictionary refrence\n",
    "# nbr_living_units         none\n",
    "# building_number          none\n",
    "# stories                  none\n",
    "# bldg_grade               code: 82\n",
    "# sq_ft1st_floor           none\n",
    "# sq_ft_half_floor         none\n",
    "# sq_ft2nd_floor           none\n",
    "# sq_ft_upper_floor        none\n",
    "# sq_ft_unfin_full         none\n",
    "# sq_ft_unfin_half         none\n",
    "# sq_ft_tot_living         none\n",
    "# sq_ft_tot_basement       none\n",
    "# sq_ft_fin_basement       none\n",
    "# fin_basement_grade       code: 82\n",
    "# sq_ft_garage_basement    none\n",
    "# sq_ft_garage_attached    none\n",
    "# daylight_basement        none\n",
    "# sq_ft_open_porch         none\n",
    "# sq_ft_enclosed_porch     none\n",
    "# sq_ft_deck               none\n",
    "# heat_system              code: 108\n",
    "# heat_source              code: 84\n",
    "# brick_stone              none\n",
    "# view_utilization         none\n",
    "# bedrooms                 none\n",
    "# bath_half_count          none\n",
    "# bath3qtr_count           none\n",
    "# bath_full_count          none\n",
    "# fp_single_story          none\n",
    "# fp_multi_story           none\n",
    "# fp_freestanding          none\n",
    "# fp_additional            none\n",
    "# yr_built                 none\n",
    "# yr_renovated             none\n",
    "# pcnt_complete            none\n",
    "# obsolescence             none\n",
    "# pcnt_net_condition       none\n",
    "# condition                code: 83\n",
    "# addnl_cost               none\n",
    "# id_number                none\n",
    "# prop_type                code: 1\n",
    "# sq_ft_lot                none\n",
    "# water_system             code: 56\n",
    "# sewer_system             code: 57\n",
    "# inadequate_parking       code: 92\n",
    "# pcnt_unusable            none\n",
    "# unbuildable              none\n",
    "# nbr_bldg_sites           none\n",
    "# contamination            code: 93\n",
    "# water_problems           none\n",
    "# sale_price               none\n",
    "# year                     none"
   ]
  },
  {
   "cell_type": "code",
   "execution_count": 57,
   "metadata": {},
   "outputs": [],
   "source": [
    "def column_filler(column_name, type_):\n",
    "    new_column_name = column_name + '_val'\n",
    "    df_refrence = lookup_(type_)\n",
    "    for row in [df]:\n",
    "        row[new_column_name] = lookup_item(type_, row[column_name])['LUDescription'][1]\n",
    "        #row[new_column_name] = row[column_name]\n",
    "        row.drop(columns = ['column_name'], inplace = True)"
   ]
  },
  {
   "cell_type": "code",
   "execution_count": 58,
   "metadata": {},
   "outputs": [],
   "source": [
    "columns_to_fix = {'bldg_grade' : 82, \n",
    "                  'fin_basement_grade' : 82, \n",
    "                  'heat_system' : 108, \n",
    "                  'heat_source' : 84,\n",
    "                  'condition' : 83,\n",
    "                  'prop_type' : 1,\n",
    "                  'water_system' : 56,\n",
    "                  'sewer_system' : 57,\n",
    "                  'inadequate_parking' : 92,\n",
    "                  'contamination' : 93\n",
    "}"
   ]
  },
  {
   "cell_type": "code",
   "execution_count": 68,
   "metadata": {},
   "outputs": [
    {
     "name": "stderr",
     "output_type": "stream",
     "text": [
      "C:\\Users\\chris\\anaconda3\\envs\\learn-env\\lib\\site-packages\\pandas\\core\\ops\\__init__.py:1115: FutureWarning: elementwise comparison failed; returning scalar instead, but in the future will perform elementwise comparison\n",
      "  result = method(y)\n"
     ]
    }
   ],
   "source": [
    "for column_ in columns_to_fix:\n",
    "    code = columns_to_fix[column_]\n",
    "    df[column_] = df[column_].apply(lambda x: lookup_item(code, x))"
   ]
  },
  {
   "cell_type": "code",
   "execution_count": 66,
   "metadata": {},
   "outputs": [],
   "source": [
    "#df['bldg_grade'] = df['bldg_grade'].apply(lambda x: lookup_item(82, x))"
   ]
  },
  {
   "cell_type": "code",
   "execution_count": 77,
   "metadata": {},
   "outputs": [
    {
     "data": {
      "text/plain": [
       "N    11528\n",
       "      9802\n",
       "Y     7307\n",
       "Name: daylight_basement, dtype: int64"
      ]
     },
     "execution_count": 77,
     "metadata": {},
     "output_type": "execute_result"
    }
   ],
   "source": [
    "df['daylight_basement'].value_counts()"
   ]
  },
  {
   "cell_type": "code",
   "execution_count": 78,
   "metadata": {},
   "outputs": [
    {
     "data": {
      "text/plain": [
       "     15016\n",
       "N    12997\n",
       "Y      624\n",
       "Name: view_utilization, dtype: int64"
      ]
     },
     "execution_count": 78,
     "metadata": {},
     "output_type": "execute_result"
    }
   ],
   "source": [
    "df['view_utilization'].value_counts()"
   ]
  },
  {
   "cell_type": "code",
   "execution_count": 75,
   "metadata": {},
   "outputs": [
    {
     "data": {
      "text/plain": [
       "N    28549\n",
       "Y       88\n",
       "Name: water_problems, dtype: int64"
      ]
     },
     "execution_count": 75,
     "metadata": {},
     "output_type": "execute_result"
    }
   ],
   "source": [
    "df['water_problems'].value_counts()"
   ]
  },
  {
   "cell_type": "code",
   "execution_count": 79,
   "metadata": {},
   "outputs": [],
   "source": [
    "#last step, fix the y and n\n",
    "df['daylight_basement'] = df['daylight_basement'].apply(lambda x: x.upper())\n",
    "df['view_utilization'] = df['view_utilization'].apply(lambda x: x.upper())\n",
    "#fixed"
   ]
  },
  {
   "cell_type": "code",
   "execution_count": 72,
   "metadata": {},
   "outputs": [
    {
     "name": "stdout",
     "output_type": "stream",
     "text": [
      "<class 'pandas.core.frame.DataFrame'>\n",
      "Int64Index: 28637 entries, 0 to 28636\n",
      "Data columns (total 52 columns):\n",
      "nbr_living_units         28637 non-null int32\n",
      "building_number          28637 non-null object\n",
      "stories                  28637 non-null float64\n",
      "bldg_grade               28637 non-null object\n",
      "sq_ft1st_floor           28637 non-null int64\n",
      "sq_ft_half_floor         28637 non-null int64\n",
      "sq_ft2nd_floor           28637 non-null int64\n",
      "sq_ft_upper_floor        28637 non-null int64\n",
      "sq_ft_unfin_full         28637 non-null int64\n",
      "sq_ft_unfin_half         28637 non-null int64\n",
      "sq_ft_tot_living         28637 non-null int64\n",
      "sq_ft_tot_basement       28637 non-null int64\n",
      "sq_ft_fin_basement       28637 non-null int64\n",
      "fin_basement_grade       28637 non-null object\n",
      "sq_ft_garage_basement    28637 non-null int64\n",
      "sq_ft_garage_attached    28637 non-null int64\n",
      "daylight_basement        28637 non-null object\n",
      "sq_ft_open_porch         28637 non-null int64\n",
      "sq_ft_enclosed_porch     28637 non-null int64\n",
      "sq_ft_deck               28637 non-null int64\n",
      "heat_system              28637 non-null object\n",
      "heat_source              28637 non-null object\n",
      "brick_stone              28637 non-null int32\n",
      "view_utilization         28637 non-null object\n",
      "bedrooms                 28637 non-null int32\n",
      "bath_half_count          28637 non-null int32\n",
      "bath3qtr_count           28637 non-null int32\n",
      "bath_full_count          28637 non-null int32\n",
      "fp_single_story          28637 non-null int64\n",
      "fp_multi_story           28637 non-null int64\n",
      "fp_freestanding          28637 non-null int64\n",
      "fp_additional            28637 non-null int64\n",
      "yr_built                 28637 non-null int32\n",
      "yr_renovated             28637 non-null int32\n",
      "pcnt_complete            28637 non-null int32\n",
      "obsolescence             28637 non-null int64\n",
      "pcnt_net_condition       28637 non-null int32\n",
      "condition                28637 non-null object\n",
      "addnl_cost               28637 non-null int32\n",
      "id_number                28637 non-null object\n",
      "prop_type                28637 non-null object\n",
      "sq_ft_lot                28637 non-null int64\n",
      "water_system             28637 non-null object\n",
      "sewer_system             28637 non-null object\n",
      "inadequate_parking       28637 non-null object\n",
      "pcnt_unusable            28637 non-null int64\n",
      "unbuildable              28637 non-null bool\n",
      "nbr_bldg_sites           28637 non-null int64\n",
      "contamination            28637 non-null int64\n",
      "water_problems           28637 non-null object\n",
      "sale_price               28637 non-null int32\n",
      "year                     28637 non-null int64\n",
      "dtypes: bool(1), float64(1), int32(12), int64(24), object(14)\n",
      "memory usage: 10.1+ MB\n"
     ]
    }
   ],
   "source": [
    "df.info()"
   ]
  },
  {
   "cell_type": "code",
   "execution_count": 69,
   "metadata": {},
   "outputs": [
    {
     "data": {
      "text/plain": [
       "0        Forced Air\n",
       "1        Floor-Wall\n",
       "2        Floor-Wall\n",
       "3        Forced Air\n",
       "4         Hot Water\n",
       "            ...    \n",
       "28632    Forced Air\n",
       "28633     Heat Pump\n",
       "28634     Heat Pump\n",
       "28635    Forced Air\n",
       "28636    Forced Air\n",
       "Name: heat_system, Length: 28637, dtype: object"
      ]
     },
     "execution_count": 69,
     "metadata": {},
     "output_type": "execute_result"
    }
   ],
   "source": [
    "df['heat_system']"
   ]
  },
  {
   "cell_type": "code",
   "execution_count": 92,
   "metadata": {},
   "outputs": [],
   "source": [
    "df.to_csv('../../data/processed/kc_clean_data.csv')"
   ]
  },
  {
   "cell_type": "code",
   "execution_count": 63,
   "metadata": {},
   "outputs": [
    {
     "data": {
      "text/plain": [
       "'Food and kindred products'"
      ]
     },
     "execution_count": 63,
     "metadata": {},
     "output_type": "execute_result"
    }
   ],
   "source": [
    "#lookup_item(1,21)"
   ]
  },
  {
   "cell_type": "code",
   "execution_count": 242,
   "metadata": {},
   "outputs": [
    {
     "data": {
      "text/plain": [
       "505000"
      ]
     },
     "execution_count": 242,
     "metadata": {},
     "output_type": "execute_result"
    }
   ],
   "source": [
    "#df.loc[50]['sale_price']"
   ]
  },
  {
   "cell_type": "code",
   "execution_count": 97,
   "metadata": {},
   "outputs": [
    {
     "ename": "AttributeError",
     "evalue": "'NoneType' object has no attribute 'axes'",
     "output_type": "error",
     "traceback": [
      "\u001b[1;31m---------------------------------------------------------------------------\u001b[0m",
      "\u001b[1;31mAttributeError\u001b[0m                            Traceback (most recent call last)",
      "\u001b[1;32m<ipython-input-97-60a5a0f86dde>\u001b[0m in \u001b[0;36m<module>\u001b[1;34m\u001b[0m\n\u001b[1;32m----> 1\u001b[1;33m \u001b[0mdf_1\u001b[0m\u001b[1;33m[\u001b[0m\u001b[1;36m4\u001b[0m\u001b[1;33m:\u001b[0m\u001b[1;36m5\u001b[0m\u001b[1;33m]\u001b[0m\u001b[1;33m\u001b[0m\u001b[1;33m\u001b[0m\u001b[0m\n\u001b[0m",
      "\u001b[1;32m~\\anaconda3\\envs\\learn-env\\lib\\site-packages\\pandas\\core\\frame.py\u001b[0m in \u001b[0;36m__getitem__\u001b[1;34m(self, key)\u001b[0m\n\u001b[0;32m   2974\u001b[0m \u001b[1;33m\u001b[0m\u001b[0m\n\u001b[0;32m   2975\u001b[0m         \u001b[1;31m# Do we have a slicer (on rows)?\u001b[0m\u001b[1;33m\u001b[0m\u001b[1;33m\u001b[0m\u001b[1;33m\u001b[0m\u001b[0m\n\u001b[1;32m-> 2976\u001b[1;33m         \u001b[0mindexer\u001b[0m \u001b[1;33m=\u001b[0m \u001b[0mconvert_to_index_sliceable\u001b[0m\u001b[1;33m(\u001b[0m\u001b[0mself\u001b[0m\u001b[1;33m,\u001b[0m \u001b[0mkey\u001b[0m\u001b[1;33m)\u001b[0m\u001b[1;33m\u001b[0m\u001b[1;33m\u001b[0m\u001b[0m\n\u001b[0m\u001b[0;32m   2977\u001b[0m         \u001b[1;32mif\u001b[0m \u001b[0mindexer\u001b[0m \u001b[1;32mis\u001b[0m \u001b[1;32mnot\u001b[0m \u001b[1;32mNone\u001b[0m\u001b[1;33m:\u001b[0m\u001b[1;33m\u001b[0m\u001b[1;33m\u001b[0m\u001b[0m\n\u001b[0;32m   2978\u001b[0m             \u001b[1;32mreturn\u001b[0m \u001b[0mself\u001b[0m\u001b[1;33m.\u001b[0m\u001b[0m_slice\u001b[0m\u001b[1;33m(\u001b[0m\u001b[0mindexer\u001b[0m\u001b[1;33m,\u001b[0m \u001b[0maxis\u001b[0m\u001b[1;33m=\u001b[0m\u001b[1;36m0\u001b[0m\u001b[1;33m)\u001b[0m\u001b[1;33m\u001b[0m\u001b[1;33m\u001b[0m\u001b[0m\n",
      "\u001b[1;32m~\\anaconda3\\envs\\learn-env\\lib\\site-packages\\pandas\\core\\indexing.py\u001b[0m in \u001b[0;36mconvert_to_index_sliceable\u001b[1;34m(obj, key)\u001b[0m\n\u001b[0;32m   2354\u001b[0m     \u001b[1;32mif\u001b[0m \u001b[0mwe\u001b[0m \u001b[0mare\u001b[0m \u001b[0mindex\u001b[0m \u001b[0msliceable\u001b[0m\u001b[1;33m,\u001b[0m \u001b[0mthen\u001b[0m \u001b[1;32mreturn\u001b[0m \u001b[0mmy\u001b[0m \u001b[0mslicer\u001b[0m\u001b[1;33m,\u001b[0m \u001b[0motherwise\u001b[0m \u001b[1;32mreturn\u001b[0m \u001b[1;32mNone\u001b[0m\u001b[1;33m\u001b[0m\u001b[1;33m\u001b[0m\u001b[0m\n\u001b[0;32m   2355\u001b[0m     \"\"\"\n\u001b[1;32m-> 2356\u001b[1;33m     \u001b[0midx\u001b[0m \u001b[1;33m=\u001b[0m \u001b[0mobj\u001b[0m\u001b[1;33m.\u001b[0m\u001b[0mindex\u001b[0m\u001b[1;33m\u001b[0m\u001b[1;33m\u001b[0m\u001b[0m\n\u001b[0m\u001b[0;32m   2357\u001b[0m     \u001b[1;32mif\u001b[0m \u001b[0misinstance\u001b[0m\u001b[1;33m(\u001b[0m\u001b[0mkey\u001b[0m\u001b[1;33m,\u001b[0m \u001b[0mslice\u001b[0m\u001b[1;33m)\u001b[0m\u001b[1;33m:\u001b[0m\u001b[1;33m\u001b[0m\u001b[1;33m\u001b[0m\u001b[0m\n\u001b[0;32m   2358\u001b[0m         \u001b[1;32mreturn\u001b[0m \u001b[0midx\u001b[0m\u001b[1;33m.\u001b[0m\u001b[0m_convert_slice_indexer\u001b[0m\u001b[1;33m(\u001b[0m\u001b[0mkey\u001b[0m\u001b[1;33m,\u001b[0m \u001b[0mkind\u001b[0m\u001b[1;33m=\u001b[0m\u001b[1;34m\"getitem\"\u001b[0m\u001b[1;33m)\u001b[0m\u001b[1;33m\u001b[0m\u001b[1;33m\u001b[0m\u001b[0m\n",
      "\u001b[1;32m~\\anaconda3\\envs\\learn-env\\lib\\site-packages\\pandas\\core\\generic.py\u001b[0m in \u001b[0;36m__getattr__\u001b[1;34m(self, name)\u001b[0m\n\u001b[0;32m   5173\u001b[0m             \u001b[1;32mor\u001b[0m \u001b[0mname\u001b[0m \u001b[1;32min\u001b[0m \u001b[0mself\u001b[0m\u001b[1;33m.\u001b[0m\u001b[0m_accessors\u001b[0m\u001b[1;33m\u001b[0m\u001b[1;33m\u001b[0m\u001b[0m\n\u001b[0;32m   5174\u001b[0m         ):\n\u001b[1;32m-> 5175\u001b[1;33m             \u001b[1;32mreturn\u001b[0m \u001b[0mobject\u001b[0m\u001b[1;33m.\u001b[0m\u001b[0m__getattribute__\u001b[0m\u001b[1;33m(\u001b[0m\u001b[0mself\u001b[0m\u001b[1;33m,\u001b[0m \u001b[0mname\u001b[0m\u001b[1;33m)\u001b[0m\u001b[1;33m\u001b[0m\u001b[1;33m\u001b[0m\u001b[0m\n\u001b[0m\u001b[0;32m   5176\u001b[0m         \u001b[1;32melse\u001b[0m\u001b[1;33m:\u001b[0m\u001b[1;33m\u001b[0m\u001b[1;33m\u001b[0m\u001b[0m\n\u001b[0;32m   5177\u001b[0m             \u001b[1;32mif\u001b[0m \u001b[0mself\u001b[0m\u001b[1;33m.\u001b[0m\u001b[0m_info_axis\u001b[0m\u001b[1;33m.\u001b[0m\u001b[0m_can_hold_identifiers_and_holds_name\u001b[0m\u001b[1;33m(\u001b[0m\u001b[0mname\u001b[0m\u001b[1;33m)\u001b[0m\u001b[1;33m:\u001b[0m\u001b[1;33m\u001b[0m\u001b[1;33m\u001b[0m\u001b[0m\n",
      "\u001b[1;32mpandas/_libs/properties.pyx\u001b[0m in \u001b[0;36mpandas._libs.properties.AxisProperty.__get__\u001b[1;34m()\u001b[0m\n",
      "\u001b[1;31mAttributeError\u001b[0m: 'NoneType' object has no attribute 'axes'"
     ]
    }
   ],
   "source": []
  },
  {
   "cell_type": "code",
   "execution_count": 93,
   "metadata": {},
   "outputs": [
    {
     "ename": "RecursionError",
     "evalue": "maximum recursion depth exceeded",
     "output_type": "error",
     "traceback": [
      "\u001b[1;31m---------------------------------------------------------------------------\u001b[0m",
      "\u001b[1;31mRecursionError\u001b[0m                            Traceback (most recent call last)",
      "\u001b[1;32m<ipython-input-93-cf89c7879531>\u001b[0m in \u001b[0;36m<module>\u001b[1;34m\u001b[0m\n\u001b[1;32m----> 1\u001b[1;33m \u001b[0mdf_3\u001b[0m \u001b[1;33m=\u001b[0m \u001b[0mdf_2\u001b[0m\u001b[1;33m[\u001b[0m\u001b[0mdf_2\u001b[0m\u001b[1;33m.\u001b[0m\u001b[0mPropertyType\u001b[0m \u001b[1;33m==\u001b[0m \u001b[1;34m'Household, single family units'\u001b[0m\u001b[1;33m]\u001b[0m\u001b[1;33m.\u001b[0m\u001b[0mcopy\u001b[0m\u001b[1;33m(\u001b[0m\u001b[1;33m)\u001b[0m\u001b[1;33m\u001b[0m\u001b[1;33m\u001b[0m\u001b[0m\n\u001b[0m",
      "\u001b[1;32m~\\anaconda3\\envs\\learn-env\\lib\\site-packages\\pandas\\core\\generic.py\u001b[0m in \u001b[0;36m__getattr__\u001b[1;34m(self, name)\u001b[0m\n\u001b[0;32m   5175\u001b[0m             \u001b[1;32mreturn\u001b[0m \u001b[0mobject\u001b[0m\u001b[1;33m.\u001b[0m\u001b[0m__getattribute__\u001b[0m\u001b[1;33m(\u001b[0m\u001b[0mself\u001b[0m\u001b[1;33m,\u001b[0m \u001b[0mname\u001b[0m\u001b[1;33m)\u001b[0m\u001b[1;33m\u001b[0m\u001b[1;33m\u001b[0m\u001b[0m\n\u001b[0;32m   5176\u001b[0m         \u001b[1;32melse\u001b[0m\u001b[1;33m:\u001b[0m\u001b[1;33m\u001b[0m\u001b[1;33m\u001b[0m\u001b[0m\n\u001b[1;32m-> 5177\u001b[1;33m             \u001b[1;32mif\u001b[0m \u001b[0mself\u001b[0m\u001b[1;33m.\u001b[0m\u001b[0m_info_axis\u001b[0m\u001b[1;33m.\u001b[0m\u001b[0m_can_hold_identifiers_and_holds_name\u001b[0m\u001b[1;33m(\u001b[0m\u001b[0mname\u001b[0m\u001b[1;33m)\u001b[0m\u001b[1;33m:\u001b[0m\u001b[1;33m\u001b[0m\u001b[1;33m\u001b[0m\u001b[0m\n\u001b[0m\u001b[0;32m   5178\u001b[0m                 \u001b[1;32mreturn\u001b[0m \u001b[0mself\u001b[0m\u001b[1;33m[\u001b[0m\u001b[0mname\u001b[0m\u001b[1;33m]\u001b[0m\u001b[1;33m\u001b[0m\u001b[1;33m\u001b[0m\u001b[0m\n\u001b[0;32m   5179\u001b[0m             \u001b[1;32mreturn\u001b[0m \u001b[0mobject\u001b[0m\u001b[1;33m.\u001b[0m\u001b[0m__getattribute__\u001b[0m\u001b[1;33m(\u001b[0m\u001b[0mself\u001b[0m\u001b[1;33m,\u001b[0m \u001b[0mname\u001b[0m\u001b[1;33m)\u001b[0m\u001b[1;33m\u001b[0m\u001b[1;33m\u001b[0m\u001b[0m\n",
      "... last 1 frames repeated, from the frame below ...\n",
      "\u001b[1;32m~\\anaconda3\\envs\\learn-env\\lib\\site-packages\\pandas\\core\\generic.py\u001b[0m in \u001b[0;36m__getattr__\u001b[1;34m(self, name)\u001b[0m\n\u001b[0;32m   5175\u001b[0m             \u001b[1;32mreturn\u001b[0m \u001b[0mobject\u001b[0m\u001b[1;33m.\u001b[0m\u001b[0m__getattribute__\u001b[0m\u001b[1;33m(\u001b[0m\u001b[0mself\u001b[0m\u001b[1;33m,\u001b[0m \u001b[0mname\u001b[0m\u001b[1;33m)\u001b[0m\u001b[1;33m\u001b[0m\u001b[1;33m\u001b[0m\u001b[0m\n\u001b[0;32m   5176\u001b[0m         \u001b[1;32melse\u001b[0m\u001b[1;33m:\u001b[0m\u001b[1;33m\u001b[0m\u001b[1;33m\u001b[0m\u001b[0m\n\u001b[1;32m-> 5177\u001b[1;33m             \u001b[1;32mif\u001b[0m \u001b[0mself\u001b[0m\u001b[1;33m.\u001b[0m\u001b[0m_info_axis\u001b[0m\u001b[1;33m.\u001b[0m\u001b[0m_can_hold_identifiers_and_holds_name\u001b[0m\u001b[1;33m(\u001b[0m\u001b[0mname\u001b[0m\u001b[1;33m)\u001b[0m\u001b[1;33m:\u001b[0m\u001b[1;33m\u001b[0m\u001b[1;33m\u001b[0m\u001b[0m\n\u001b[0m\u001b[0;32m   5178\u001b[0m                 \u001b[1;32mreturn\u001b[0m \u001b[0mself\u001b[0m\u001b[1;33m[\u001b[0m\u001b[0mname\u001b[0m\u001b[1;33m]\u001b[0m\u001b[1;33m\u001b[0m\u001b[1;33m\u001b[0m\u001b[0m\n\u001b[0;32m   5179\u001b[0m             \u001b[1;32mreturn\u001b[0m \u001b[0mobject\u001b[0m\u001b[1;33m.\u001b[0m\u001b[0m__getattribute__\u001b[0m\u001b[1;33m(\u001b[0m\u001b[0mself\u001b[0m\u001b[1;33m,\u001b[0m \u001b[0mname\u001b[0m\u001b[1;33m)\u001b[0m\u001b[1;33m\u001b[0m\u001b[1;33m\u001b[0m\u001b[0m\n",
      "\u001b[1;31mRecursionError\u001b[0m: maximum recursion depth exceeded"
     ]
    }
   ],
   "source": [
    "df_3 = df_2[df_2.PropertyType == 'Household, single family units'].copy()"
   ]
  },
  {
   "cell_type": "code",
   "execution_count": null,
   "metadata": {},
   "outputs": [],
   "source": []
  }
 ],
 "metadata": {
  "kernelspec": {
   "display_name": "learn-env",
   "language": "python",
   "name": "learn-env"
  },
  "language_info": {
   "codemirror_mode": {
    "name": "ipython",
    "version": 3
   },
   "file_extension": ".py",
   "mimetype": "text/x-python",
   "name": "python",
   "nbconvert_exporter": "python",
   "pygments_lexer": "ipython3",
   "version": "3.6.9"
  }
 },
 "nbformat": 4,
 "nbformat_minor": 4
}
